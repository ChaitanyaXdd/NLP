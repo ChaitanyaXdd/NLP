{
 "cells": [
  {
   "cell_type": "code",
   "execution_count": 1,
   "id": "1486d8c4",
   "metadata": {},
   "outputs": [],
   "source": [
    "paragraph = \"Natural Language Processing (NLP) is a fascinating field within artificial intelligence that enables computers to understand, interpret, and generate human language. For instance, imagine you're having a conversation with a digital assistant like me, and you're asking about the best restaurants in your area. Using NLP, I can analyze your query, understand your preferences, and provide a curated list of top-rated eateries nearby. Moreover, NLP powers applications like sentiment analysis, where businesses can gauge customer emotions from reviews, and language translation services, breaking down language barriers and facilitating global communication. The ability of NLP to bridge the gap between human and machine communication opens up a world of possibilities, making technology more intuitive and accessible.\""
   ]
  },
  {
   "cell_type": "code",
   "execution_count": 3,
   "id": "db0bc1dc",
   "metadata": {},
   "outputs": [],
   "source": [
    "import nltk\n",
    "sentences = nltk.sent_tokenize(paragraph)"
   ]
  },
  {
   "cell_type": "code",
   "execution_count": 5,
   "id": "9a78ca64",
   "metadata": {},
   "outputs": [],
   "source": [
    "# Find the POS Tag\n",
    "from nltk.corpus import stopwords\n",
    "from nltk.stem import PorterStemmer\n",
    "from nltk.stem import SnowballStemmer\n",
    "from nltk.stem import WordNetLemmatizer"
   ]
  },
  {
   "cell_type": "code",
   "execution_count": 7,
   "id": "5075d566",
   "metadata": {},
   "outputs": [
    {
     "name": "stdout",
     "output_type": "stream",
     "text": [
      "[('Natural', 'JJ'), ('Language', 'NNP'), ('Processing', 'NNP'), ('(', '('), ('NLP', 'NNP'), (')', ')'), ('fascinating', 'VBG'), ('field', 'NN'), ('within', 'IN'), ('artificial', 'JJ'), ('intelligence', 'NN'), ('enables', 'VBZ'), ('computers', 'NNS'), ('understand', 'VBP'), (',', ','), ('interpret', 'JJ'), (',', ','), ('generate', 'JJ'), ('human', 'JJ'), ('language', 'NN'), ('.', '.')]\n",
      "[('For', 'IN'), ('instance', 'NN'), (',', ','), ('imagine', 'JJ'), (\"'re\", 'VBP'), ('conversation', 'NN'), ('digital', 'JJ'), ('assistant', 'NN'), ('like', 'IN'), (',', ','), (\"'re\", 'VBP'), ('asking', 'VBG'), ('best', 'JJS'), ('restaurants', 'NNS'), ('area', 'NN'), ('.', '.')]\n",
      "[('Using', 'VBG'), ('NLP', 'NNP'), (',', ','), ('I', 'PRP'), ('analyze', 'VBP'), ('query', 'RB'), (',', ','), ('understand', 'JJ'), ('preferences', 'NNS'), (',', ','), ('provide', 'RB'), ('curated', 'JJ'), ('list', 'NN'), ('top-rated', 'JJ'), ('eateries', 'NNS'), ('nearby', 'RB'), ('.', '.')]\n",
      "[('Moreover', 'RB'), (',', ','), ('NLP', 'NNP'), ('powers', 'NNS'), ('applications', 'NNS'), ('like', 'IN'), ('sentiment', 'NN'), ('analysis', 'NN'), (',', ','), ('businesses', 'NNS'), ('gauge', 'VBP'), ('customer', 'NN'), ('emotions', 'NNS'), ('reviews', 'VBP'), (',', ','), ('language', 'NN'), ('translation', 'NN'), ('services', 'NNS'), (',', ','), ('breaking', 'VBG'), ('language', 'NN'), ('barriers', 'NNS'), ('facilitating', 'VBG'), ('global', 'JJ'), ('communication', 'NN'), ('.', '.')]\n",
      "[('The', 'DT'), ('ability', 'NN'), ('NLP', 'NNP'), ('bridge', 'NN'), ('gap', 'NN'), ('human', 'JJ'), ('machine', 'NN'), ('communication', 'NN'), ('opens', 'VBZ'), ('world', 'NN'), ('possibilities', 'NNS'), (',', ','), ('making', 'VBG'), ('technology', 'NN'), ('intuitive', 'JJ'), ('accessible', 'NN'), ('.', '.')]\n"
     ]
    }
   ],
   "source": [
    "for i in range(len(sentences)):\n",
    "    words = nltk.word_tokenize(sentences[i])\n",
    "    words = [word for word in words if word not in set(stopwords.words('english'))]\n",
    "    pos_tag = nltk.pos_tag(words)\n",
    "    print(pos_tag)\n",
    "#     sentences[i] = ' '.join(words)\n"
   ]
  },
  {
   "cell_type": "code",
   "execution_count": 10,
   "id": "00c4eff8",
   "metadata": {},
   "outputs": [
    {
     "name": "stderr",
     "output_type": "stream",
     "text": [
      "[nltk_data] Downloading package averaged_perceptron_tagger to\n",
      "[nltk_data]     C:\\Users\\Dell G5\\AppData\\Roaming\\nltk_data...\n",
      "[nltk_data]   Package averaged_perceptron_tagger is already up-to-\n",
      "[nltk_data]       date!\n"
     ]
    },
    {
     "data": {
      "text/plain": [
       "True"
      ]
     },
     "execution_count": 10,
     "metadata": {},
     "output_type": "execute_result"
    }
   ],
   "source": [
    "nltk.download('averaged_perceptron_tagger')"
   ]
  },
  {
   "cell_type": "code",
   "execution_count": 12,
   "id": "cafc6051",
   "metadata": {},
   "outputs": [
    {
     "name": "stdout",
     "output_type": "stream",
     "text": [
      "[('Taj', 'NNP'), ('Mahal', 'NNP'), ('is', 'VBZ'), ('a', 'DT'), ('beautiful', 'JJ'), ('Monument', 'NN')]\n"
     ]
    }
   ],
   "source": [
    "from nltk.tokenize import word_tokenize\n",
    "sentence = \"Taj Mahal is a beautiful Monument\"\n",
    "tokenized_sentence = word_tokenize(sentence)\n",
    "pos_tagged_sentence = nltk.pos_tag(tokenized_sentence)\n",
    "print(pos_tagged_sentence)"
   ]
  },
  {
   "cell_type": "code",
   "execution_count": null,
   "id": "71a078ba",
   "metadata": {},
   "outputs": [],
   "source": []
  }
 ],
 "metadata": {
  "kernelspec": {
   "display_name": "Python 3 (ipykernel)",
   "language": "python",
   "name": "python3"
  },
  "language_info": {
   "codemirror_mode": {
    "name": "ipython",
    "version": 3
   },
   "file_extension": ".py",
   "mimetype": "text/x-python",
   "name": "python",
   "nbconvert_exporter": "python",
   "pygments_lexer": "ipython3",
   "version": "3.10.7"
  }
 },
 "nbformat": 4,
 "nbformat_minor": 5
}
