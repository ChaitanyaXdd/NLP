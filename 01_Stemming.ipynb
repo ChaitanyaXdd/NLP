{
 "cells": [
  {
   "cell_type": "code",
   "execution_count": 1,
   "id": "1d13a4f2",
   "metadata": {},
   "outputs": [],
   "source": [
    "from nltk.stem import PorterStemmer"
   ]
  },
  {
   "cell_type": "code",
   "execution_count": 2,
   "id": "e6213ae1",
   "metadata": {},
   "outputs": [],
   "source": [
    "stemming = PorterStemmer()"
   ]
  },
  {
   "cell_type": "code",
   "execution_count": 5,
   "id": "79800762",
   "metadata": {},
   "outputs": [],
   "source": [
    "words = [\n",
    "    \"Jumping\", \"Jumps\", \"Jumped\", \"Jump\",\n",
    "    \"Running\", \"Runs\", \"Ran\", \"Runner\",\n",
    "    \"Friendly\", \"Friendship\", \"Friends\",\n",
    "    \"Reading\", \"Reads\", \"Reader\",\n",
    "    \"Helping\", \"Helps\", \"Helped\", \"Helper\",\"Finalized\"\n",
    "]\n"
   ]
  },
  {
   "cell_type": "code",
   "execution_count": 6,
   "id": "84a9402f",
   "metadata": {},
   "outputs": [
    {
     "name": "stdout",
     "output_type": "stream",
     "text": [
      "Jumping-->jump\n",
      "Jumps-->jump\n",
      "Jumped-->jump\n",
      "Jump-->jump\n",
      "Running-->run\n",
      "Runs-->run\n",
      "Ran-->ran\n",
      "Runner-->runner\n",
      "Friendly-->friendli\n",
      "Friendship-->friendship\n",
      "Friends-->friend\n",
      "Reading-->read\n",
      "Reads-->read\n",
      "Reader-->reader\n",
      "Helping-->help\n",
      "Helps-->help\n",
      "Helped-->help\n",
      "Helper-->helper\n",
      "Finalized-->final\n"
     ]
    }
   ],
   "source": [
    "for word in words:\n",
    "    print(word+\"-->\"+stemming.stem(word))"
   ]
  },
  {
   "cell_type": "code",
   "execution_count": 7,
   "id": "fda30351",
   "metadata": {},
   "outputs": [
    {
     "data": {
      "text/plain": [
       "'congratul'"
      ]
     },
     "execution_count": 7,
     "metadata": {},
     "output_type": "execute_result"
    }
   ],
   "source": [
    "stemming.stem('congratulations')"
   ]
  },
  {
   "cell_type": "code",
   "execution_count": null,
   "id": "efd5d899",
   "metadata": {},
   "outputs": [],
   "source": [
    "# RegExp Stemmer "
   ]
  },
  {
   "cell_type": "code",
   "execution_count": 8,
   "id": "5d599b58",
   "metadata": {},
   "outputs": [],
   "source": [
    "from nltk.stem import RegexpStemmer"
   ]
  },
  {
   "cell_type": "code",
   "execution_count": 10,
   "id": "f80df91a",
   "metadata": {},
   "outputs": [],
   "source": [
    "reg_stemmer = RegexpStemmer('ing$|s$|e$|able$',min=4)"
   ]
  },
  {
   "cell_type": "code",
   "execution_count": 11,
   "id": "0d1de4d9",
   "metadata": {},
   "outputs": [
    {
     "data": {
      "text/plain": [
       "'eat'"
      ]
     },
     "execution_count": 11,
     "metadata": {},
     "output_type": "execute_result"
    }
   ],
   "source": [
    "reg_stemmer.stem('eating')"
   ]
  },
  {
   "cell_type": "code",
   "execution_count": 12,
   "id": "7aa6c03e",
   "metadata": {},
   "outputs": [],
   "source": [
    "reg_stemmer = RegexpStemmer('ing|s$|e$|able$',min=4)"
   ]
  },
  {
   "cell_type": "code",
   "execution_count": 13,
   "id": "df44ad18",
   "metadata": {},
   "outputs": [
    {
     "data": {
      "text/plain": [
       "'eat'"
      ]
     },
     "execution_count": 13,
     "metadata": {},
     "output_type": "execute_result"
    }
   ],
   "source": [
    "reg_stemmer.stem('ingeating')"
   ]
  },
  {
   "cell_type": "code",
   "execution_count": 14,
   "id": "bfaa15b7",
   "metadata": {},
   "outputs": [],
   "source": [
    "# Snowball Stemmer"
   ]
  },
  {
   "cell_type": "code",
   "execution_count": 15,
   "id": "df9ca506",
   "metadata": {},
   "outputs": [],
   "source": [
    "from nltk.stem import SnowballStemmer"
   ]
  },
  {
   "cell_type": "code",
   "execution_count": 17,
   "id": "51581a63",
   "metadata": {},
   "outputs": [],
   "source": [
    "snowball = SnowballStemmer('english')"
   ]
  },
  {
   "cell_type": "code",
   "execution_count": 18,
   "id": "9033d09c",
   "metadata": {},
   "outputs": [
    {
     "name": "stdout",
     "output_type": "stream",
     "text": [
      "Jumping--> jump\n",
      "Jumps--> jump\n",
      "Jumped--> jump\n",
      "Jump--> jump\n",
      "Running--> run\n",
      "Runs--> run\n",
      "Ran--> ran\n",
      "Runner--> runner\n",
      "Friendly--> friend\n",
      "Friendship--> friendship\n",
      "Friends--> friend\n",
      "Reading--> read\n",
      "Reads--> read\n",
      "Reader--> reader\n",
      "Helping--> help\n",
      "Helps--> help\n",
      "Helped--> help\n",
      "Helper--> helper\n",
      "Finalized--> final\n"
     ]
    }
   ],
   "source": [
    "for word in words:\n",
    "    print(word + \"--> \" + snowball.stem(word))"
   ]
  },
  {
   "cell_type": "code",
   "execution_count": 20,
   "id": "df16c62f",
   "metadata": {},
   "outputs": [
    {
     "data": {
      "text/plain": [
       "'fairli'"
      ]
     },
     "execution_count": 20,
     "metadata": {},
     "output_type": "execute_result"
    }
   ],
   "source": [
    "stemming.stem(\"fairly\")"
   ]
  },
  {
   "cell_type": "code",
   "execution_count": 21,
   "id": "29ffdc31",
   "metadata": {},
   "outputs": [
    {
     "data": {
      "text/plain": [
       "'fair'"
      ]
     },
     "execution_count": 21,
     "metadata": {},
     "output_type": "execute_result"
    }
   ],
   "source": [
    "snowball.stem(\"fairly\")"
   ]
  },
  {
   "cell_type": "code",
   "execution_count": 22,
   "id": "c26f1aa1",
   "metadata": {},
   "outputs": [
    {
     "data": {
      "text/plain": [
       "'goe'"
      ]
     },
     "execution_count": 22,
     "metadata": {},
     "output_type": "execute_result"
    }
   ],
   "source": [
    "snowball.stem(\"goes\")"
   ]
  },
  {
   "cell_type": "code",
   "execution_count": 23,
   "id": "97cd8cf5",
   "metadata": {},
   "outputs": [
    {
     "data": {
      "text/plain": [
       "'goe'"
      ]
     },
     "execution_count": 23,
     "metadata": {},
     "output_type": "execute_result"
    }
   ],
   "source": [
    "stemming.stem(\"goes\")"
   ]
  }
 ],
 "metadata": {
  "kernelspec": {
   "display_name": "Python 3 (ipykernel)",
   "language": "python",
   "name": "python3"
  },
  "language_info": {
   "codemirror_mode": {
    "name": "ipython",
    "version": 3
   },
   "file_extension": ".py",
   "mimetype": "text/x-python",
   "name": "python",
   "nbconvert_exporter": "python",
   "pygments_lexer": "ipython3",
   "version": "3.10.7"
  }
 },
 "nbformat": 4,
 "nbformat_minor": 5
}
