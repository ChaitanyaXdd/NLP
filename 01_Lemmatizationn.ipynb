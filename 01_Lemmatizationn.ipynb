{
 "cells": [
  {
   "cell_type": "code",
   "execution_count": 1,
   "id": "cc69096a",
   "metadata": {},
   "outputs": [],
   "source": [
    "from nltk.stem import WordNetLemmatizer"
   ]
  },
  {
   "cell_type": "code",
   "execution_count": 2,
   "id": "85a31125",
   "metadata": {},
   "outputs": [],
   "source": [
    "lemmatizer = WordNetLemmatizer()"
   ]
  },
  {
   "cell_type": "code",
   "execution_count": 4,
   "id": "3cc7fc2a",
   "metadata": {},
   "outputs": [
    {
     "data": {
      "text/plain": [
       "'going'"
      ]
     },
     "execution_count": 4,
     "metadata": {},
     "output_type": "execute_result"
    }
   ],
   "source": [
    "lemmatizer.lemmatize(\"going\")"
   ]
  },
  {
   "cell_type": "code",
   "execution_count": 5,
   "id": "f6ff21fa",
   "metadata": {},
   "outputs": [
    {
     "data": {
      "text/plain": [
       "'go'"
      ]
     },
     "execution_count": 5,
     "metadata": {},
     "output_type": "execute_result"
    }
   ],
   "source": [
    "lemmatizer.lemmatize(\"going\",pos='v')"
   ]
  },
  {
   "cell_type": "code",
   "execution_count": 6,
   "id": "82cbb378",
   "metadata": {},
   "outputs": [
    {
     "data": {
      "text/plain": [
       "'going'"
      ]
     },
     "execution_count": 6,
     "metadata": {},
     "output_type": "execute_result"
    }
   ],
   "source": [
    "lemmatizer.lemmatize(\"going\",pos='a')"
   ]
  },
  {
   "cell_type": "code",
   "execution_count": 7,
   "id": "3470c2cb",
   "metadata": {},
   "outputs": [],
   "source": [
    "words = [\n",
    "    \"Jumping\", \"Jumps\", \"Jumped\", \"Jump\",\n",
    "    \"Running\", \"Runs\", \"Ran\", \"Runner\",\n",
    "    \"Friendly\", \"Friendship\", \"Friends\",\n",
    "    \"Reading\", \"Reads\", \"Reader\",\n",
    "    \"Helping\", \"Helps\", \"Helped\", \"Helper\",\"Finalized\"\n",
    "]"
   ]
  },
  {
   "cell_type": "code",
   "execution_count": 8,
   "id": "96dbbe7f",
   "metadata": {},
   "outputs": [
    {
     "name": "stdout",
     "output_type": "stream",
     "text": [
      "Jumping-->Jumping\n",
      "Jumps-->Jumps\n",
      "Jumped-->Jumped\n",
      "Jump-->Jump\n",
      "Running-->Running\n",
      "Runs-->Runs\n",
      "Ran-->Ran\n",
      "Runner-->Runner\n",
      "Friendly-->Friendly\n",
      "Friendship-->Friendship\n",
      "Friends-->Friends\n",
      "Reading-->Reading\n",
      "Reads-->Reads\n",
      "Reader-->Reader\n",
      "Helping-->Helping\n",
      "Helps-->Helps\n",
      "Helped-->Helped\n",
      "Helper-->Helper\n",
      "Finalized-->Finalized\n"
     ]
    }
   ],
   "source": [
    "for word in words:\n",
    "    print(word + \"-->\" + lemmatizer.lemmatize(word))"
   ]
  },
  {
   "cell_type": "code",
   "execution_count": null,
   "id": "7f8db10f",
   "metadata": {},
   "outputs": [],
   "source": []
  }
 ],
 "metadata": {
  "kernelspec": {
   "display_name": "Python 3 (ipykernel)",
   "language": "python",
   "name": "python3"
  },
  "language_info": {
   "codemirror_mode": {
    "name": "ipython",
    "version": 3
   },
   "file_extension": ".py",
   "mimetype": "text/x-python",
   "name": "python",
   "nbconvert_exporter": "python",
   "pygments_lexer": "ipython3",
   "version": "3.10.7"
  }
 },
 "nbformat": 4,
 "nbformat_minor": 5
}
